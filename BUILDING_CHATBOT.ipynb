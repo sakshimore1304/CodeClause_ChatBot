{
 "cells": [
  {
   "cell_type": "markdown",
   "id": "45032fa0",
   "metadata": {},
   "source": [
    "# CHATBOT"
   ]
  },
  {
   "cell_type": "markdown",
   "id": "f43624a9",
   "metadata": {},
   "source": [
    "### THIS CHATBOT IS MADE BY SAKSHI K MORE"
   ]
  },
  {
   "cell_type": "markdown",
   "id": "10aa465e",
   "metadata": {},
   "source": [
    "##### importing all the required libraries"
   ]
  },
  {
   "cell_type": "code",
   "execution_count": 14,
   "id": "06218619",
   "metadata": {},
   "outputs": [],
   "source": [
    "import pandas as pd\n",
    "import numpy as np\n",
    "import speech_recognition as sr\n",
    "import pyradio\n",
    "import pywhatkit\n",
    "import pyaudio\n",
    "import wikipedia\n",
    "import webbrowser\n",
    "import datetime"
   ]
  },
  {
   "cell_type": "code",
   "execution_count": 5,
   "id": "4e0e67b1",
   "metadata": {},
   "outputs": [],
   "source": [
    "def audio():\n",
    "    recorder=sr.Recognizer()\n",
    "    with sr.Microphone() as source:\n",
    "        audio=recorder.listen(source)\n",
    "        print('Start........')\n",
    "    text=recorder.recognize_google(audio)\n",
    "    text=text.lower()\n",
    "    return text"
   ]
  },
  {
   "cell_type": "code",
   "execution_count": null,
   "id": "ab56f1b1",
   "metadata": {},
   "outputs": [],
   "source": []
  },
  {
   "cell_type": "code",
   "execution_count": 18,
   "id": "b3a7ae8b",
   "metadata": {},
   "outputs": [
    {
     "name": "stdout",
     "output_type": "stream",
     "text": [
      "Start........\n"
     ]
    }
   ],
   "source": [
    "text=audio()\n",
    "if 'hello' in text.lower():\n",
    "    print('Hi friend!')\n",
    "elif 'hi' in text.lower():\n",
    "    print('Hello friend!')\n",
    "elif 'how are you' in text.lower():\n",
    "    print('I am Good , How about you?!')\n",
    "elif 'how is your day' in text.lower():\n",
    "    print('It is amazing!!')\n",
    "elif 'youtube' in text.lower():\n",
    "    pywhatkit.playonyt(text)\n",
    "elif 'information' in text.lower():\n",
    "    pywhatkit.search(text)\n",
    "elif 'mails' in text.lower():\n",
    "    webbrowser.open('https://mail.google.com/mail/u/1/#inbox')\n",
    "elif 'python tutorial' in text.lower():\n",
    "    webbrowser.open('https://in.search.yahoo.com/search?fr=mcafee&type=E211IN1274G0&p=python+tutorial')\n",
    "elif 'jokes' in text.lower():\n",
    "    webbrowser.open('https://www.rd.com/list/funniest-jokes-of-all-time/')\n",
    "elif 'news' in text.lower():\n",
    "    webbrowser.open('https://in.search.yahoo.com/search;_ylt=AwrKBZZanLNkghA0XUC7HAx.;_ylc=X1MDMjExNDcyMzAwMwRfcgMyBGZyA21jYWZlZQRmcjIDc2ItdG9wBGdwcmlkAzFId3dYOWZKUnRhV0dRVE1GRU51V0EEbl9yc2x0AzAEbl9zdWdnAzQEb3JpZ2luA2luLnNlYXJjaC55YWhvby5jb20EcG9zAzAEcHFzdHIDBHBxc3RybAMwBHFzdHJsAzE4BHF1ZXJ5A3RvcCUyMDEwJTIwbXVtYmFpJTIwbmV3cwR0X3N0bXADMTY4OTQ5MjYzNg--?p=top+10+mumbai+news&fr2=sb-top&fr=mcafee&vm=r&type=E211IN1274G0')\n",
    "elif 'data science' in text.lower():\n",
    "    pywhatkit.search(text)\n",
    "elif 'what is the date today' in text.lower():\n",
    "    print(datetime.datetime.now())\n",
    "    "
   ]
  },
  {
   "cell_type": "code",
   "execution_count": null,
   "id": "e8024137",
   "metadata": {},
   "outputs": [],
   "source": []
  }
 ],
 "metadata": {
  "kernelspec": {
   "display_name": "Python 3",
   "language": "python",
   "name": "python3"
  },
  "language_info": {
   "codemirror_mode": {
    "name": "ipython",
    "version": 3
   },
   "file_extension": ".py",
   "mimetype": "text/x-python",
   "name": "python",
   "nbconvert_exporter": "python",
   "pygments_lexer": "ipython3",
   "version": "3.8.8"
  }
 },
 "nbformat": 4,
 "nbformat_minor": 5
}
